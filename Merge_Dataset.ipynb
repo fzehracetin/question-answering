{
 "cells": [
  {
   "cell_type": "markdown",
   "metadata": {},
   "source": [
    "# Question & Answering Dataset Preprocess"
   ]
  },
  {
   "cell_type": "markdown",
   "metadata": {},
   "source": [
    "This notebook takes question files and doccano's output file \"answers.json1\" and combines them into one json file. Output file tree structure."
   ]
  },
  {
   "cell_type": "markdown",
   "metadata": {},
   "source": [
    "#### Necessary Libraries"
   ]
  },
  {
   "cell_type": "code",
   "execution_count": 1,
   "metadata": {},
   "outputs": [],
   "source": [
    "import json\n",
    "import os\n",
    "import re"
   ]
  },
  {
   "cell_type": "markdown",
   "metadata": {},
   "source": [
    "## Load questions and answers"
   ]
  },
  {
   "cell_type": "markdown",
   "metadata": {},
   "source": [
    "### Load questions"
   ]
  },
  {
   "cell_type": "markdown",
   "metadata": {},
   "source": [
    "Under questions directory file structure must look like this:"
   ]
  },
  {
   "attachments": {
    "image.png": {
     "image/png": "[encoded data removed]"
    }
   },
   "cell_type": "markdown",
   "metadata": {},
   "source": [
    "![image.png](attachment:image.png)"
   ]
  },
  {
   "cell_type": "code",
   "execution_count": 3,
   "metadata": {},
   "outputs": [],
   "source": [
    "# saves dictionary as json file\n",
    "def save_as_json(file_name, data):\n",
    "    with open(file_name, \"w\") as formatted:\n",
    "        json.dump(data, formatted)\n",
    "        \n",
    "# convert question texts to dictionaries\n",
    "def question_texts_to_dict(questions, paragraph, id_):\n",
    "    splitted = questions.split(\"\\n\")\n",
    "    empty = True\n",
    "    splitted_questions = []\n",
    "    for i in range(int(len(splitted) / 2)):\n",
    "        question = splitted[i*2]\n",
    "        data = question.split(\": \")  # Careful here. Did you have space after question names?\n",
    "        # data = question.split(\":\")\n",
    "        \n",
    "        if data[1] != '':\n",
    "            splitted_questions.append(data[1])\n",
    "            empty = False\n",
    "            \n",
    "    question_dict = {}\n",
    "    question_dict[\"questions\"] = splitted_questions\n",
    "    question_dict[\"text\"] = paragraph\n",
    "    question_dict[\"id\"] = id_\n",
    "    return question_dict\n",
    "\n",
    "# read files under questions directory\n",
    "def read_questions_dir(path, file_count):\n",
    "    questions_dict = []\n",
    "    id_ = 1\n",
    "    for i in range(1, file_count + 1):\n",
    "        try:\n",
    "            f1 = open(path + str(i) + \".txt\", \"r\", encoding=\"utf-8\")\n",
    "            f2 = open(path + str(i) + \"_soru.txt\", \"r\", encoding=\"utf-8\")\n",
    "        except:\n",
    "            print(\"Dosya \" + str(i) + \".txt açılamıyor\")\n",
    "            continue\n",
    "        paragraph = f1.read()\n",
    "        questions = f2.read()\n",
    "        paragraph = paragraph.replace(\"\\n\", '')\n",
    "        if paragraph[0] == ' ':\n",
    "            paragraph = paragraph[1:]\n",
    "        dictionary = question_texts_to_dict(questions, paragraph, id_)\n",
    "        questions_dict.append(dictionary)\n",
    "        id_ += 1\n",
    "        f1.close()\n",
    "        f2.close()\n",
    "\n",
    "    return questions_dict "
   ]
  },
  {
   "cell_type": "code",
   "execution_count": 3,
   "metadata": {},
   "outputs": [
    {
     "name": "stdout",
     "output_type": "stream",
     "text": [
      "Dosya 32.txt açılamıyor\n",
      "Dosya 33.txt açılamıyor\n",
      "Dosya 115.txt açılamıyor\n",
      "Paragraf sayısı: 122\n"
     ]
    }
   ],
   "source": [
    "path = \"dataset/\"\n",
    "questions = read_questions_dir(path, 125)\n",
    "save_as_json(\"questionsV1.json\", questions)\n",
    "\n",
    "print(\"Paragraf sayısı:\", len(questions))"
   ]
  },
  {
   "cell_type": "code",
   "execution_count": 4,
   "metadata": {},
   "outputs": [
    {
     "data": {
      "text/plain": [
       "{'questions': [\"Türkiye'nin topraklarının büyük bölümü nerededir?\",\n",
       "  \"Türkiye'nin kuzeybatısındaki komşusu kimdir?\",\n",
       "  \"Türkiye'nin batıdaki komşusu kimdir?\",\n",
       "  \"Türkiye'nin kuzeydoğudaki komşusu kimdir?\",\n",
       "  \"Türkiye'nin doğudaki komşuları kimlerdir?\",\n",
       "  \"Türkiye'nin güneydoğudaki komşuları kimlerdir?\",\n",
       "  \"Türkiye'nin güneyinde hangi deniz bulunur?\",\n",
       "  \"Türkiye'nin batısında hangi deniz bulunur?\",\n",
       "  \"Türkiye'nin kuzeyinde hangi deniz bulunur?\",\n",
       "  'Marmara Denizi hangi kıtaları birbirinden ayırır?'],\n",
       " 'text': \"Türkiye Cumhuriyeti ya da kısaca Türkiye, topraklarının büyük bölümü Anadolu'da, küçük bir bölümü ise Balkan Yarımadası'nın güneydoğu uzantısı olan Trakya'da yer alan ülke. Kuzeybatıda Bulgaristan, batıda Yunanistan, kuzeydoğuda Gürcistan, doğuda Ermenistan, İran ve Azerbaycan'ın ekslav toprağı Nahçıvan, güneydoğuda ise Irak ve Suriye komşusudur. Güneyini Kıbrıs adası ve Akdeniz. Batısını Ege Denizi ve kuzeyini Karadeniz çevreler. Marmara Denizi ise İstanbul Boğazı ve Çanakkale Boğazı ile birlikte Anadolu'yu Trakya'dan yani Asya'yı Avrupa'dan ayırır. Türkiye, Avrupa ve Asya'nın kavşak noktasında yer alması sayesinde önemli bir jeostratejik güce sahiptir.\",\n",
       " 'id': 1}"
      ]
     },
     "execution_count": 4,
     "metadata": {},
     "output_type": "execute_result"
    }
   ],
   "source": [
    "questions[0]"
   ]
  },
  {
   "cell_type": "markdown",
   "metadata": {},
   "source": [
    "### Load answers"
   ]
  },
  {
   "cell_type": "markdown",
   "metadata": {},
   "source": [
    "Load doccano's output json1 file as answers dictionary."
   ]
  },
  {
   "cell_type": "code",
   "execution_count": 4,
   "metadata": {},
   "outputs": [],
   "source": [
    "# reads formatted answers file\n",
    "def read_json(file_name):\n",
    "    with open(file_name, \"r\", encoding=\"utf-8\") as json_file:\n",
    "        data = json.load(json_file)\n",
    "    return data\n",
    "\n",
    "# clears unnecessary whitespaces before and after answers\n",
    "def clear_the_answers(answers):\n",
    "    for j in range(len(answers[\"data\"])):\n",
    "        answer = answers[\"data\"][j]\n",
    "        for i in range(len(answer[\"labels\"])):\n",
    "            full_answer = answer[\"text\"][answer[\"labels\"][i][0]:answer[\"labels\"][i][1]]\n",
    "            if full_answer[0] == ' ':\n",
    "                answer[\"labels\"][i][0] += 1\n",
    "            if full_answer[:-1] == ' ':\n",
    "                answer[\"labels\"][i][1] -= 1\n",
    "\n",
    "# reads raw doccano output file and save as json.\n",
    "def read_doccano_file(file_path):\n",
    "    with open(file_path, \"r\", encoding=\"utf-8\") as json_file:\n",
    "        answers = json_file.read()\n",
    "        \n",
    "    text_answers =  answers.split(\"\\n\")\n",
    "    answer_dict = []\n",
    "    for answer in text_answers[:-1]:\n",
    "        dictionary = json.loads(answer)\n",
    "        answer_dict.append(dictionary)\n",
    "        \n",
    "    data = {\"data\": answer_dict}\n",
    "    clear_the_answers(data)\n",
    "    new_filename = file_path.split(\".\")[0] + \"_formatted.json\"\n",
    "    \n",
    "    save_as_json(new_filename, data)\n",
    "    return data "
   ]
  },
  {
   "cell_type": "markdown",
   "metadata": {},
   "source": [
    "If you have a raw doccano output file choose 1st step and turn your doccano json1 file to json."
   ]
  },
  {
   "cell_type": "markdown",
   "metadata": {},
   "source": [
    "#### 1. For raw doccano output file"
   ]
  },
  {
   "cell_type": "code",
   "execution_count": 6,
   "metadata": {},
   "outputs": [],
   "source": [
    "file_path = \"datasetV1.json1\"\n",
    "\n",
    "answers = read_doccano_file(file_path)"
   ]
  },
  {
   "cell_type": "markdown",
   "metadata": {},
   "source": [
    "#### 2. For formatted json file"
   ]
  },
  {
   "cell_type": "code",
   "execution_count": 7,
   "metadata": {},
   "outputs": [],
   "source": [
    "file_path = \"datasetV1_formatted.json\"\n",
    "\n",
    "answers = read_json(file_path)"
   ]
  },
  {
   "cell_type": "code",
   "execution_count": 8,
   "metadata": {},
   "outputs": [
    {
     "name": "stdout",
     "output_type": "stream",
     "text": [
      "{'id': 1, 'text': \"Türkiye Cumhuriyeti ya da kısaca Türkiye, topraklarının büyük bölümü Anadolu'da, küçük bir bölümü ise Balkan Yarımadası'nın güneydoğu uzantısı olan Trakya'da yer alan ülke. Kuzeybatıda Bulgaristan, batıda Yunanistan, kuzeydoğuda Gürcistan, doğuda Ermenistan, İran ve Azerbaycan'ın ekslav toprağı Nahçıvan, güneydoğuda ise Irak ve Suriye komşusudur. Güneyini Kıbrıs adası ve Akdeniz. Batısını Ege Denizi ve kuzeyini Karadeniz çevreler. Marmara Denizi ise İstanbul Boğazı ve Çanakkale Boğazı ile birlikte Anadolu'yu Trakya'dan yani Asya'yı Avrupa'dan ayırır. Türkiye, Avrupa ve Asya'nın kavşak noktasında yer alması sayesinde önemli bir jeostratejik güce sahiptir.\", 'meta': {}, 'annotation_approver': None, 'labels': [[69, 76, 'cevap1'], [185, 196, 'cevap2'], [205, 215, 'cevap3'], [229, 238, 'cevap4'], [247, 304, 'cevap5'], [322, 336, 'cevap6'], [374, 381, 'cevap7'], [392, 403, 'cevap8'], [415, 424, 'cevap9'], [530, 548, 'cevap10']]}\n"
     ]
    }
   ],
   "source": [
    "print(answers[\"data\"][0])"
   ]
  },
  {
   "cell_type": "markdown",
   "metadata": {},
   "source": [
    "## Merge Questions and Answers"
   ]
  },
  {
   "cell_type": "markdown",
   "metadata": {},
   "source": [
    "Merge questions and answers dictionaries to one dictionary and save as json. "
   ]
  },
  {
   "cell_type": "code",
   "execution_count": 5,
   "metadata": {},
   "outputs": [],
   "source": [
    "# Counts matched questions and answers based on texts.\n",
    "def matched_questions_and_answers(questions, answers):\n",
    "    eslesti = 0\n",
    "    for j in range(len(questions)):\n",
    "        found = False\n",
    "        i = 0\n",
    "        while(i < len(answers[\"data\"]) and not found):\n",
    "            if answers[\"data\"][i]['text'] == questions[j][\"text\"]:\n",
    "                eslesti += 1\n",
    "                found = True\n",
    "            i += 1\n",
    "        if not found:\n",
    "            print(\"Questions \" + str(j) + \" eşleşemedi\")\n",
    "\n",
    "    print(\"Matched files: \", eslesti)\n",
    "\n",
    "# creates q&a dictionary.\n",
    "def create_q_a_dictionary(answer_index, question_index, questions, answers):\n",
    "    qas_list = []\n",
    "    for i in range(len(questions[question_index][\"questions\"])):\n",
    "        start = answers[\"data\"][answer_index]['labels'][i][0] \n",
    "        end = answers[\"data\"][answer_index]['labels'][i][1]\n",
    "\n",
    "        q_dict = {\n",
    "            \"question\": questions[question_index][\"questions\"][i],\n",
    "            \"answer\": answers[\"data\"][answer_index]['text'][start:end],\n",
    "            \"answer_start\": start,\n",
    "            \"answer_end\": end\n",
    "        }\n",
    "\n",
    "        qas_list.append(q_dict)\n",
    "\n",
    "    if qas_list:\n",
    "        dictionary = {\n",
    "            \"text\": answers[\"data\"][answer_index]['text'],\n",
    "            \"qas\": qas_list\n",
    "        }\n",
    "        return dictionary\n",
    "    else:\n",
    "        return None\n",
    "\n",
    "# merges q&a dictionaries.    \n",
    "def merge_questions_and_answers(questions, answers):\n",
    "    dataset = []\n",
    "    for j in range(len(questions)):\n",
    "        found = False\n",
    "        i = 0\n",
    "        while(i < len(answers[\"data\"]) and not found):\n",
    "            if answers[\"data\"][i]['text'] == questions[j][\"text\"]:\n",
    "                found = True\n",
    "            else:\n",
    "                i += 1\n",
    "        if found:\n",
    "            answer_index = i   \n",
    "            dictionary = create_q_a_dictionary(answer_index, j, questions, answers)\n",
    "            if dictionary != None:\n",
    "                dataset.append(dictionary)  \n",
    "                \n",
    "    final_dataset = {\"data\": dataset}\n",
    "    return final_dataset"
   ]
  },
  {
   "cell_type": "markdown",
   "metadata": {},
   "source": [
    "Solve problems for unmatched files!"
   ]
  },
  {
   "cell_type": "code",
   "execution_count": 10,
   "metadata": {},
   "outputs": [
    {
     "name": "stdout",
     "output_type": "stream",
     "text": [
      "Questions length: 122, Answers length: 123\n",
      "Matched files:  122\n"
     ]
    }
   ],
   "source": [
    "print(\"Questions length: {}, Answers length: {}\".format(len(questions), len(answers[\"data\"])))\n",
    "matched_questions_and_answers(questions, answers)"
   ]
  },
  {
   "cell_type": "code",
   "execution_count": 11,
   "metadata": {},
   "outputs": [
    {
     "name": "stdout",
     "output_type": "stream",
     "text": [
      "114\n"
     ]
    }
   ],
   "source": [
    "dataset = merge_questions_and_answers(questions, answers)\n",
    "print(len(dataset[\"data\"]))"
   ]
  },
  {
   "cell_type": "code",
   "execution_count": 12,
   "metadata": {},
   "outputs": [],
   "source": [
    "save_as_json(\"wiki_dataV1.json\", dataset)"
   ]
  },
  {
   "cell_type": "code",
   "execution_count": 18,
   "metadata": {},
   "outputs": [
    {
     "data": {
      "text/plain": [
       "{'text': \"Komünizm (Latince kökenli communis - ortak, evrensel); üretim araçlarının ortak mülkiyeti üzerine kurulu sınıfsız, parasız ve devletsiz bir toplumsal düzen ve bu düzenin kurulmasını amaçlayan toplumsal, siyasi ve ekonomik bir ideoloji ve harekettir. Sadece üretim araçlarının ortaklaşalığına dayanan sosyalizmden ayırt edilmesi gerekir. 20. yüzyılın başından beri dünya siyasetindeki büyük güçlerden biri olarak modern komünizm, genellikle Karl Marx'ın ve Friedrich Engels’in kaleme aldığı Komünist Parti Manifestosu ile birlikte anılır. Buna göre özel mülkiyete dayalı kapitalist toplumun yerine meta üretiminin son bulduğu komünist toplum gerçektir. Komünizmin temelinde yatan sebep, sınıfsız, ortak mülkiyete dayalı bir toplumun kurulması isteğidir. Sınıfsız toplumlarda en genel anlamıyla tüm bireylerin eşit olması fikri karşıt görüşlüler tarafından ütopya olarak görülür ve zorla yaşanmaya çalışılırsa kaosa yol açacağı iddia edilir. Paris Komünü, komünist sistem yaşayabilmiş ilk topluluktur. Bunun dışında Mahnovist hareket öncülüğünde Ukrayna ve İspanya iç savaşı sırasında Anarko-komünist hareketle şekillenen (yaklaşık 4 yıl sürmüştür) toprakların kolektifleştirilmesi esasına dayalı olarak komünist topluluklar da kurulmuştur. Komünizm devlet rejimi olarak ilk kez 1917 Ekim Devrimi 'nden sonra kurulan Sovyetler Birliği'nde uygulanmıştır.\",\n",
       " 'qas': [{'question': 'Komünizm nasıl bir toplumsal düzen kurmayı amaçlar?',\n",
       "   'answer': 'üretim araçlarının ortak mülkiyeti üzerine kurulu sınıfsız, parasız ve devletsiz bir toplumsal düzen',\n",
       "   'answer_start': 55,\n",
       "   'answer_end': 155},\n",
       "  {'question': 'Modern komünizm ne zamandır dünyanın büyük güçlerinden biridir?',\n",
       "   'answer': '20. yüzyılın başından beri',\n",
       "   'answer_start': 337,\n",
       "   'answer_end': 363},\n",
       "  {'question': 'Komünist Parti Manifestosunu kim kaleme almıştır?',\n",
       "   'answer': \"Karl Marx'ın ve Friedrich Engels\",\n",
       "   'answer_start': 440,\n",
       "   'answer_end': 472},\n",
       "  {'question': \"Karl Marx'ın ve Friedrich Engels'in kaleme aldığı eser nedir?\",\n",
       "   'answer': 'Komünist Parti Manifestosu',\n",
       "   'answer_start': 490,\n",
       "   'answer_end': 516},\n",
       "  {'question': 'Komünizmin temelinde yatan sebep nedir?',\n",
       "   'answer': 'sınıfsız, ortak mülkiyete dayalı bir toplumun kurulması isteğidir',\n",
       "   'answer_start': 686,\n",
       "   'answer_end': 751},\n",
       "  {'question': 'Komünist sistem yaşayabilmiş ilk topluluk nedir?',\n",
       "   'answer': 'Paris Komünü',\n",
       "   'answer_start': 940,\n",
       "   'answer_end': 952},\n",
       "  {'question': 'Sovyetler Birliği ne zaman kurulmuştur?',\n",
       "   'answer': \"1917 Ekim Devrimi 'nden sonra\",\n",
       "   'answer_start': 1277,\n",
       "   'answer_end': 1306},\n",
       "  {'question': 'Komünizm devlet rejimi olarak ilk kez nerede uygulanmıştır?',\n",
       "   'answer': \"Sovyetler Birliği'nde\",\n",
       "   'answer_start': 1315,\n",
       "   'answer_end': 1336}]}"
      ]
     },
     "execution_count": 18,
     "metadata": {},
     "output_type": "execute_result"
    }
   ],
   "source": [
    "dataset[\"data\"][2]"
   ]
  },
  {
   "cell_type": "markdown",
   "metadata": {},
   "source": [
    "## Load Q&A Dataset"
   ]
  },
  {
   "cell_type": "code",
   "execution_count": 6,
   "metadata": {},
   "outputs": [],
   "source": [
    "dataset = read_json(\"wiki_dataV1.json\")"
   ]
  },
  {
   "cell_type": "code",
   "execution_count": 7,
   "metadata": {},
   "outputs": [
    {
     "name": "stdout",
     "output_type": "stream",
     "text": [
      "{'text': \"Türkiye Cumhuriyeti ya da kısaca Türkiye, topraklarının büyük bölümü Anadolu'da, küçük bir bölümü ise Balkan Yarımadası'nın güneydoğu uzantısı olan Trakya'da yer alan ülke. Kuzeybatıda Bulgaristan, batıda Yunanistan, kuzeydoğuda Gürcistan, doğuda Ermenistan, İran ve Azerbaycan'ın ekslav toprağı Nahçıvan, güneydoğuda ise Irak ve Suriye komşusudur. Güneyini Kıbrıs adası ve Akdeniz. Batısını Ege Denizi ve kuzeyini Karadeniz çevreler. Marmara Denizi ise İstanbul Boğazı ve Çanakkale Boğazı ile birlikte Anadolu'yu Trakya'dan yani Asya'yı Avrupa'dan ayırır. Türkiye, Avrupa ve Asya'nın kavşak noktasında yer alması sayesinde önemli bir jeostratejik güce sahiptir.\", 'qas': [{'question': \"Türkiye'nin topraklarının büyük bölümü nerededir?\", 'answer': 'Anadolu', 'answer_start': 69, 'answer_end': 76}, {'question': \"Türkiye'nin kuzeybatısındaki komşusu kimdir?\", 'answer': 'Bulgaristan', 'answer_start': 185, 'answer_end': 196}, {'question': \"Türkiye'nin batıdaki komşusu kimdir?\", 'answer': 'Yunanistan', 'answer_start': 205, 'answer_end': 215}, {'question': \"Türkiye'nin kuzeydoğudaki komşusu kimdir?\", 'answer': 'Gürcistan', 'answer_start': 229, 'answer_end': 238}, {'question': \"Türkiye'nin doğudaki komşuları kimlerdir?\", 'answer': \"Ermenistan, İran ve Azerbaycan'ın ekslav toprağı Nahçıvan\", 'answer_start': 247, 'answer_end': 304}, {'question': \"Türkiye'nin güneydoğudaki komşuları kimlerdir?\", 'answer': 'Irak ve Suriye', 'answer_start': 322, 'answer_end': 336}, {'question': \"Türkiye'nin güneyinde hangi deniz bulunur?\", 'answer': 'Akdeniz', 'answer_start': 374, 'answer_end': 381}, {'question': \"Türkiye'nin batısında hangi deniz bulunur?\", 'answer': 'Ege Denizi ', 'answer_start': 392, 'answer_end': 403}, {'question': \"Türkiye'nin kuzeyinde hangi deniz bulunur?\", 'answer': 'Karadeniz', 'answer_start': 415, 'answer_end': 424}, {'question': 'Marmara Denizi hangi kıtaları birbirinden ayırır?', 'answer': \"Asya'yı Avrupa'dan\", 'answer_start': 530, 'answer_end': 548}]}\n"
     ]
    }
   ],
   "source": [
    "print(dataset[\"data\"][0])"
   ]
  },
  {
   "cell_type": "code",
   "execution_count": null,
   "metadata": {},
   "outputs": [],
   "source": []
  }
 ],
 "metadata": {
  "kernelspec": {
   "display_name": "Python 3",
   "language": "python",
   "name": "python3"
  },
  "language_info": {
   "codemirror_mode": {
    "name": "ipython",
    "version": 3
   },
   "file_extension": ".py",
   "mimetype": "text/x-python",
   "name": "python",
   "nbconvert_exporter": "python",
   "pygments_lexer": "ipython3",
   "version": "3.7.3"
  }
 },
 "nbformat": 4,
 "nbformat_minor": 2
}
